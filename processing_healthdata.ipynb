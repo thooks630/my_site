{
  "nbformat": 4,
  "nbformat_minor": 0,
  "metadata": {
    "colab": {
      "provenance": [],
      "authorship_tag": "ABX9TyMxLzbxrF59jVoMFR5DPy65",
      "include_colab_link": true
    },
    "kernelspec": {
      "name": "ir",
      "display_name": "R"
    },
    "language_info": {
      "name": "R"
    }
  },
  "cells": [
    {
      "cell_type": "markdown",
      "metadata": {
        "id": "view-in-github",
        "colab_type": "text"
      },
      "source": [
        "<a href=\"https://colab.research.google.com/github/thooks630/my_site/blob/main/processing_healthdata.ipynb\" target=\"_parent\"><img src=\"https://colab.research.google.com/assets/colab-badge.svg\" alt=\"Open In Colab\"/></a>"
      ]
    },
    {
      "cell_type": "code",
      "execution_count": 1,
      "metadata": {
        "colab": {
          "base_uri": "https://localhost:8080/",
          "height": 1000
        },
        "id": "QqkUup4dJsDH",
        "outputId": "5091abf7-163c-4814-9e8e-c2bd57fe06d9"
      },
      "outputs": [
        {
          "output_type": "stream",
          "name": "stderr",
          "text": [
            "── \u001b[1mAttaching core tidyverse packages\u001b[22m ──────────────────────── tidyverse 2.0.0 ──\n",
            "\u001b[32m✔\u001b[39m \u001b[34mdplyr    \u001b[39m 1.1.4     \u001b[32m✔\u001b[39m \u001b[34mreadr    \u001b[39m 2.1.4\n",
            "\u001b[32m✔\u001b[39m \u001b[34mforcats  \u001b[39m 1.0.0     \u001b[32m✔\u001b[39m \u001b[34mstringr  \u001b[39m 1.5.1\n",
            "\u001b[32m✔\u001b[39m \u001b[34mggplot2  \u001b[39m 3.4.4     \u001b[32m✔\u001b[39m \u001b[34mtibble   \u001b[39m 3.2.1\n",
            "\u001b[32m✔\u001b[39m \u001b[34mlubridate\u001b[39m 1.9.3     \u001b[32m✔\u001b[39m \u001b[34mtidyr    \u001b[39m 1.3.0\n",
            "\u001b[32m✔\u001b[39m \u001b[34mpurrr    \u001b[39m 1.0.2     \n",
            "── \u001b[1mConflicts\u001b[22m ────────────────────────────────────────── tidyverse_conflicts() ──\n",
            "\u001b[31m✖\u001b[39m \u001b[34mdplyr\u001b[39m::\u001b[32mfilter()\u001b[39m masks \u001b[34mstats\u001b[39m::filter()\n",
            "\u001b[31m✖\u001b[39m \u001b[34mdplyr\u001b[39m::\u001b[32mlag()\u001b[39m    masks \u001b[34mstats\u001b[39m::lag()\n",
            "\u001b[36mℹ\u001b[39m Use the conflicted package (\u001b[3m\u001b[34m<http://conflicted.r-lib.org/>\u001b[39m\u001b[23m) to force all conflicts to become errors\n"
          ]
        },
        {
          "output_type": "display_data",
          "data": {
            "text/html": [
              "<table class=\"dataframe\">\n",
              "<caption>A data.frame: 6 × 67</caption>\n",
              "<thead>\n",
              "\t<tr><th></th><th scope=col>Country.Name</th><th scope=col>Region</th><th scope=col>Series.Name</th><th scope=col>Series.Code</th><th scope=col>X1960..YR1960.</th><th scope=col>X1961..YR1961.</th><th scope=col>X1962..YR1962.</th><th scope=col>X1963..YR1963.</th><th scope=col>X1964..YR1964.</th><th scope=col>X1965..YR1965.</th><th scope=col>⋯</th><th scope=col>X2013..YR2013.</th><th scope=col>X2014..YR2014.</th><th scope=col>X2015..YR2015.</th><th scope=col>X2016..YR2016.</th><th scope=col>X2017..YR2017.</th><th scope=col>X2018..YR2018.</th><th scope=col>X2019..YR2019.</th><th scope=col>X2020..YR2020.</th><th scope=col>X2021..YR2021.</th><th scope=col>X2022..YR2022.</th></tr>\n",
              "\t<tr><th></th><th scope=col>&lt;chr&gt;</th><th scope=col>&lt;chr&gt;</th><th scope=col>&lt;chr&gt;</th><th scope=col>&lt;chr&gt;</th><th scope=col>&lt;chr&gt;</th><th scope=col>&lt;chr&gt;</th><th scope=col>&lt;chr&gt;</th><th scope=col>&lt;chr&gt;</th><th scope=col>&lt;chr&gt;</th><th scope=col>&lt;chr&gt;</th><th scope=col>⋯</th><th scope=col>&lt;chr&gt;</th><th scope=col>&lt;chr&gt;</th><th scope=col>&lt;chr&gt;</th><th scope=col>&lt;chr&gt;</th><th scope=col>&lt;chr&gt;</th><th scope=col>&lt;chr&gt;</th><th scope=col>&lt;chr&gt;</th><th scope=col>&lt;chr&gt;</th><th scope=col>&lt;chr&gt;</th><th scope=col>&lt;chr&gt;</th></tr>\n",
              "</thead>\n",
              "<tbody>\n",
              "\t<tr><th scope=row>1</th><td>Afghanistan</td><td>Asia</td><td>Diabetes prevalence (% of population ages 20 to 79)</td><td>SH.STA.DIAB.ZS</td><td>..</td><td>..</td><td>..</td><td>..</td><td>..</td><td>..</td><td>⋯</td><td>..</td><td>..</td><td>..</td><td>..</td><td>..</td><td>..</td><td>..</td><td>..</td><td>10.9</td><td>..</td></tr>\n",
              "\t<tr><th scope=row>2</th><td>Afghanistan</td><td>Asia</td><td>Diabetes prevalence (% of population ages 20 to 79)</td><td>SH.STA.DIAB.ZS</td><td>..</td><td>..</td><td>..</td><td>..</td><td>..</td><td>..</td><td>⋯</td><td>..</td><td>..</td><td>..</td><td>..</td><td>..</td><td>..</td><td>..</td><td>..</td><td>10.9</td><td>..</td></tr>\n",
              "\t<tr><th scope=row>3</th><td>Afghanistan</td><td>Asia</td><td>Diabetes prevalence (% of population ages 20 to 79)</td><td>SH.STA.DIAB.ZS</td><td>..</td><td>..</td><td>..</td><td>..</td><td>..</td><td>..</td><td>⋯</td><td>..</td><td>..</td><td>..</td><td>..</td><td>..</td><td>..</td><td>..</td><td>..</td><td>10.9</td><td>..</td></tr>\n",
              "\t<tr><th scope=row>4</th><td>Afghanistan</td><td>Asia</td><td>Diabetes prevalence (% of population ages 20 to 79)</td><td>SH.STA.DIAB.ZS</td><td>..</td><td>..</td><td>..</td><td>..</td><td>..</td><td>..</td><td>⋯</td><td>..</td><td>..</td><td>..</td><td>..</td><td>..</td><td>..</td><td>..</td><td>..</td><td>10.9</td><td>..</td></tr>\n",
              "\t<tr><th scope=row>5</th><td>Afghanistan</td><td>Asia</td><td>Diabetes prevalence (% of population ages 20 to 79)</td><td>SH.STA.DIAB.ZS</td><td>..</td><td>..</td><td>..</td><td>..</td><td>..</td><td>..</td><td>⋯</td><td>..</td><td>..</td><td>..</td><td>..</td><td>..</td><td>..</td><td>..</td><td>..</td><td>10.9</td><td>..</td></tr>\n",
              "\t<tr><th scope=row>6</th><td>Afghanistan</td><td>Asia</td><td>Diabetes prevalence (% of population ages 20 to 79)</td><td>SH.STA.DIAB.ZS</td><td>..</td><td>..</td><td>..</td><td>..</td><td>..</td><td>..</td><td>⋯</td><td>..</td><td>..</td><td>..</td><td>..</td><td>..</td><td>..</td><td>..</td><td>..</td><td>10.9</td><td>..</td></tr>\n",
              "</tbody>\n",
              "</table>\n"
            ],
            "text/markdown": "\nA data.frame: 6 × 67\n\n| <!--/--> | Country.Name &lt;chr&gt; | Region &lt;chr&gt; | Series.Name &lt;chr&gt; | Series.Code &lt;chr&gt; | X1960..YR1960. &lt;chr&gt; | X1961..YR1961. &lt;chr&gt; | X1962..YR1962. &lt;chr&gt; | X1963..YR1963. &lt;chr&gt; | X1964..YR1964. &lt;chr&gt; | X1965..YR1965. &lt;chr&gt; | ⋯ ⋯ | X2013..YR2013. &lt;chr&gt; | X2014..YR2014. &lt;chr&gt; | X2015..YR2015. &lt;chr&gt; | X2016..YR2016. &lt;chr&gt; | X2017..YR2017. &lt;chr&gt; | X2018..YR2018. &lt;chr&gt; | X2019..YR2019. &lt;chr&gt; | X2020..YR2020. &lt;chr&gt; | X2021..YR2021. &lt;chr&gt; | X2022..YR2022. &lt;chr&gt; |\n|---|---|---|---|---|---|---|---|---|---|---|---|---|---|---|---|---|---|---|---|---|---|\n| 1 | Afghanistan | Asia | Diabetes prevalence (% of population ages 20 to 79) | SH.STA.DIAB.ZS | .. | .. | .. | .. | .. | .. | ⋯ | .. | .. | .. | .. | .. | .. | .. | .. | 10.9 | .. |\n| 2 | Afghanistan | Asia | Diabetes prevalence (% of population ages 20 to 79) | SH.STA.DIAB.ZS | .. | .. | .. | .. | .. | .. | ⋯ | .. | .. | .. | .. | .. | .. | .. | .. | 10.9 | .. |\n| 3 | Afghanistan | Asia | Diabetes prevalence (% of population ages 20 to 79) | SH.STA.DIAB.ZS | .. | .. | .. | .. | .. | .. | ⋯ | .. | .. | .. | .. | .. | .. | .. | .. | 10.9 | .. |\n| 4 | Afghanistan | Asia | Diabetes prevalence (% of population ages 20 to 79) | SH.STA.DIAB.ZS | .. | .. | .. | .. | .. | .. | ⋯ | .. | .. | .. | .. | .. | .. | .. | .. | 10.9 | .. |\n| 5 | Afghanistan | Asia | Diabetes prevalence (% of population ages 20 to 79) | SH.STA.DIAB.ZS | .. | .. | .. | .. | .. | .. | ⋯ | .. | .. | .. | .. | .. | .. | .. | .. | 10.9 | .. |\n| 6 | Afghanistan | Asia | Diabetes prevalence (% of population ages 20 to 79) | SH.STA.DIAB.ZS | .. | .. | .. | .. | .. | .. | ⋯ | .. | .. | .. | .. | .. | .. | .. | .. | 10.9 | .. |\n\n",
            "text/latex": "A data.frame: 6 × 67\n\\begin{tabular}{r|lllllllllllllllllllll}\n  & Country.Name & Region & Series.Name & Series.Code & X1960..YR1960. & X1961..YR1961. & X1962..YR1962. & X1963..YR1963. & X1964..YR1964. & X1965..YR1965. & ⋯ & X2013..YR2013. & X2014..YR2014. & X2015..YR2015. & X2016..YR2016. & X2017..YR2017. & X2018..YR2018. & X2019..YR2019. & X2020..YR2020. & X2021..YR2021. & X2022..YR2022.\\\\\n  & <chr> & <chr> & <chr> & <chr> & <chr> & <chr> & <chr> & <chr> & <chr> & <chr> & ⋯ & <chr> & <chr> & <chr> & <chr> & <chr> & <chr> & <chr> & <chr> & <chr> & <chr>\\\\\n\\hline\n\t1 & Afghanistan & Asia & Diabetes prevalence (\\% of population ages 20 to 79) & SH.STA.DIAB.ZS & .. & .. & .. & .. & .. & .. & ⋯ & .. & .. & .. & .. & .. & .. & .. & .. & 10.9 & ..\\\\\n\t2 & Afghanistan & Asia & Diabetes prevalence (\\% of population ages 20 to 79) & SH.STA.DIAB.ZS & .. & .. & .. & .. & .. & .. & ⋯ & .. & .. & .. & .. & .. & .. & .. & .. & 10.9 & ..\\\\\n\t3 & Afghanistan & Asia & Diabetes prevalence (\\% of population ages 20 to 79) & SH.STA.DIAB.ZS & .. & .. & .. & .. & .. & .. & ⋯ & .. & .. & .. & .. & .. & .. & .. & .. & 10.9 & ..\\\\\n\t4 & Afghanistan & Asia & Diabetes prevalence (\\% of population ages 20 to 79) & SH.STA.DIAB.ZS & .. & .. & .. & .. & .. & .. & ⋯ & .. & .. & .. & .. & .. & .. & .. & .. & 10.9 & ..\\\\\n\t5 & Afghanistan & Asia & Diabetes prevalence (\\% of population ages 20 to 79) & SH.STA.DIAB.ZS & .. & .. & .. & .. & .. & .. & ⋯ & .. & .. & .. & .. & .. & .. & .. & .. & 10.9 & ..\\\\\n\t6 & Afghanistan & Asia & Diabetes prevalence (\\% of population ages 20 to 79) & SH.STA.DIAB.ZS & .. & .. & .. & .. & .. & .. & ⋯ & .. & .. & .. & .. & .. & .. & .. & .. & 10.9 & ..\\\\\n\\end{tabular}\n",
            "text/plain": [
              "  Country.Name Region Series.Name                                        \n",
              "1 Afghanistan  Asia   Diabetes prevalence (% of population ages 20 to 79)\n",
              "2 Afghanistan  Asia   Diabetes prevalence (% of population ages 20 to 79)\n",
              "3 Afghanistan  Asia   Diabetes prevalence (% of population ages 20 to 79)\n",
              "4 Afghanistan  Asia   Diabetes prevalence (% of population ages 20 to 79)\n",
              "5 Afghanistan  Asia   Diabetes prevalence (% of population ages 20 to 79)\n",
              "6 Afghanistan  Asia   Diabetes prevalence (% of population ages 20 to 79)\n",
              "  Series.Code    X1960..YR1960. X1961..YR1961. X1962..YR1962. X1963..YR1963.\n",
              "1 SH.STA.DIAB.ZS ..             ..             ..             ..            \n",
              "2 SH.STA.DIAB.ZS ..             ..             ..             ..            \n",
              "3 SH.STA.DIAB.ZS ..             ..             ..             ..            \n",
              "4 SH.STA.DIAB.ZS ..             ..             ..             ..            \n",
              "5 SH.STA.DIAB.ZS ..             ..             ..             ..            \n",
              "6 SH.STA.DIAB.ZS ..             ..             ..             ..            \n",
              "  X1964..YR1964. X1965..YR1965. ⋯ X2013..YR2013. X2014..YR2014. X2015..YR2015.\n",
              "1 ..             ..             ⋯ ..             ..             ..            \n",
              "2 ..             ..             ⋯ ..             ..             ..            \n",
              "3 ..             ..             ⋯ ..             ..             ..            \n",
              "4 ..             ..             ⋯ ..             ..             ..            \n",
              "5 ..             ..             ⋯ ..             ..             ..            \n",
              "6 ..             ..             ⋯ ..             ..             ..            \n",
              "  X2016..YR2016. X2017..YR2017. X2018..YR2018. X2019..YR2019. X2020..YR2020.\n",
              "1 ..             ..             ..             ..             ..            \n",
              "2 ..             ..             ..             ..             ..            \n",
              "3 ..             ..             ..             ..             ..            \n",
              "4 ..             ..             ..             ..             ..            \n",
              "5 ..             ..             ..             ..             ..            \n",
              "6 ..             ..             ..             ..             ..            \n",
              "  X2021..YR2021. X2022..YR2022.\n",
              "1 10.9           ..            \n",
              "2 10.9           ..            \n",
              "3 10.9           ..            \n",
              "4 10.9           ..            \n",
              "5 10.9           ..            \n",
              "6 10.9           ..            "
            ]
          },
          "metadata": {}
        }
      ],
      "source": [
        "library(tidyverse)\n",
        "health <- read.csv(\"https://github.com/thooks630/my_site/raw/main/Data/world_bank_raw_download_F23.csv\")\n",
        "\n",
        "health %>% head"
      ]
    }
  ]
}